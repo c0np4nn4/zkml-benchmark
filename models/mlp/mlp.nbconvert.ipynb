{
 "cells": [
  {
   "cell_type": "markdown",
   "metadata": {},
   "source": [
    "# o1js Benchmark\n",
    "\n",
    "This notebook benchmarks an MLP model implemented in PyTorch, which mirrors the structure of an MLP model defined using o1js in TypeScript. The model is then exported to ONNX format."
   ]
  },
  {
   "cell_type": "code",
   "execution_count": 1,
   "metadata": {
    "execution": {
     "iopub.execute_input": "2024-08-25T10:02:27.783736Z",
     "iopub.status.busy": "2024-08-25T10:02:27.783366Z",
     "iopub.status.idle": "2024-08-25T10:02:29.781959Z",
     "shell.execute_reply": "2024-08-25T10:02:29.780586Z"
    }
   },
   "outputs": [
    {
     "name": "stdout",
     "output_type": "stream",
     "text": [
      "Requirement already satisfied: torch in /Users/mac/.pyenv/versions/3.9.19/lib/python3.9/site-packages (2.2.2)\r\n",
      "Requirement already satisfied: numpy in /Users/mac/.pyenv/versions/3.9.19/lib/python3.9/site-packages (2.0.1)\r\n",
      "Requirement already satisfied: onnx in /Users/mac/.pyenv/versions/3.9.19/lib/python3.9/site-packages (1.16.2)\r\n",
      "Requirement already satisfied: ezkl in /Users/mac/.pyenv/versions/3.9.19/lib/python3.9/site-packages (100.100.101)\r\n"
     ]
    },
    {
     "name": "stdout",
     "output_type": "stream",
     "text": [
      "Requirement already satisfied: jinja2 in /Users/mac/.pyenv/versions/3.9.19/lib/python3.9/site-packages (from torch) (3.1.4)\r\n",
      "Requirement already satisfied: sympy in /Users/mac/.pyenv/versions/3.9.19/lib/python3.9/site-packages (from torch) (1.13.2)\r\n",
      "Requirement already satisfied: networkx in /Users/mac/.pyenv/versions/3.9.19/lib/python3.9/site-packages (from torch) (3.2.1)\r\n",
      "Requirement already satisfied: fsspec in /Users/mac/.pyenv/versions/3.9.19/lib/python3.9/site-packages (from torch) (2024.6.1)\r\n",
      "Requirement already satisfied: typing-extensions>=4.8.0 in /Users/mac/.pyenv/versions/3.9.19/lib/python3.9/site-packages (from torch) (4.12.2)\r\n",
      "Requirement already satisfied: filelock in /Users/mac/.pyenv/versions/3.9.19/lib/python3.9/site-packages (from torch) (3.15.4)\r\n",
      "Requirement already satisfied: protobuf>=3.20.2 in /Users/mac/.pyenv/versions/3.9.19/lib/python3.9/site-packages (from onnx) (5.27.3)\r\n"
     ]
    },
    {
     "name": "stdout",
     "output_type": "stream",
     "text": [
      "Requirement already satisfied: MarkupSafe>=2.0 in /Users/mac/.pyenv/versions/3.9.19/lib/python3.9/site-packages (from jinja2->torch) (2.1.5)\r\n"
     ]
    },
    {
     "name": "stdout",
     "output_type": "stream",
     "text": [
      "Requirement already satisfied: mpmath<1.4,>=1.1.0 in /Users/mac/.pyenv/versions/3.9.19/lib/python3.9/site-packages (from sympy->torch) (1.3.0)\r\n"
     ]
    },
    {
     "name": "stdout",
     "output_type": "stream",
     "text": [
      "\r\n",
      "\u001b[1m[\u001b[0m\u001b[34;49mnotice\u001b[0m\u001b[1;39;49m]\u001b[0m\u001b[39;49m A new release of pip is available: \u001b[0m\u001b[31;49m23.0.1\u001b[0m\u001b[39;49m -> \u001b[0m\u001b[32;49m24.2\u001b[0m\r\n",
      "\u001b[1m[\u001b[0m\u001b[34;49mnotice\u001b[0m\u001b[1;39;49m]\u001b[0m\u001b[39;49m To update, run: \u001b[0m\u001b[32;49mpip install --upgrade pip\u001b[0m\r\n"
     ]
    }
   ],
   "source": [
    "# Install necessary packages\n",
    "!pip install torch numpy onnx ezkl"
   ]
  },
  {
   "cell_type": "code",
   "execution_count": 2,
   "metadata": {
    "execution": {
     "iopub.execute_input": "2024-08-25T10:02:29.787646Z",
     "iopub.status.busy": "2024-08-25T10:02:29.787215Z",
     "iopub.status.idle": "2024-08-25T10:02:31.043978Z",
     "shell.execute_reply": "2024-08-25T10:02:31.043270Z"
    }
   },
   "outputs": [
    {
     "name": "stderr",
     "output_type": "stream",
     "text": [
      "\n",
      "A module that was compiled using NumPy 1.x cannot be run in\n",
      "NumPy 2.0.1 as it may crash. To support both 1.x and 2.x\n",
      "versions of NumPy, modules must be compiled with NumPy 2.0.\n",
      "Some module may need to rebuild instead e.g. with 'pybind11>=2.12'.\n",
      "\n",
      "If you are a user of the module, the easiest solution will be to\n",
      "downgrade to 'numpy<2' or try to upgrade the affected module.\n",
      "We expect that some modules will need time to support NumPy 2.\n",
      "\n",
      "Traceback (most recent call last):  File \"/Users/mac/.pyenv/versions/3.9.19/lib/python3.9/runpy.py\", line 197, in _run_module_as_main\n",
      "    return _run_code(code, main_globals, None,\n",
      "  File \"/Users/mac/.pyenv/versions/3.9.19/lib/python3.9/runpy.py\", line 87, in _run_code\n",
      "    exec(code, run_globals)\n",
      "  File \"/Users/mac/.pyenv/versions/3.9.19/lib/python3.9/site-packages/ipykernel_launcher.py\", line 18, in <module>\n",
      "    app.launch_new_instance()\n",
      "  File \"/Users/mac/.pyenv/versions/3.9.19/lib/python3.9/site-packages/traitlets/config/application.py\", line 1075, in launch_instance\n",
      "    app.start()\n",
      "  File \"/Users/mac/.pyenv/versions/3.9.19/lib/python3.9/site-packages/ipykernel/kernelapp.py\", line 739, in start\n",
      "    self.io_loop.start()\n",
      "  File \"/Users/mac/.pyenv/versions/3.9.19/lib/python3.9/site-packages/tornado/platform/asyncio.py\", line 205, in start\n",
      "    self.asyncio_loop.run_forever()\n",
      "  File \"/Users/mac/.pyenv/versions/3.9.19/lib/python3.9/asyncio/base_events.py\", line 601, in run_forever\n",
      "    self._run_once()\n",
      "  File \"/Users/mac/.pyenv/versions/3.9.19/lib/python3.9/asyncio/base_events.py\", line 1905, in _run_once\n",
      "    handle._run()\n",
      "  File \"/Users/mac/.pyenv/versions/3.9.19/lib/python3.9/asyncio/events.py\", line 80, in _run\n",
      "    self._context.run(self._callback, *self._args)\n",
      "  File \"/Users/mac/.pyenv/versions/3.9.19/lib/python3.9/site-packages/ipykernel/kernelbase.py\", line 545, in dispatch_queue\n",
      "    await self.process_one()\n",
      "  File \"/Users/mac/.pyenv/versions/3.9.19/lib/python3.9/site-packages/ipykernel/kernelbase.py\", line 534, in process_one\n",
      "    await dispatch(*args)\n",
      "  File \"/Users/mac/.pyenv/versions/3.9.19/lib/python3.9/site-packages/ipykernel/kernelbase.py\", line 437, in dispatch_shell\n",
      "    await result\n",
      "  File \"/Users/mac/.pyenv/versions/3.9.19/lib/python3.9/site-packages/ipykernel/ipkernel.py\", line 362, in execute_request\n",
      "    await super().execute_request(stream, ident, parent)\n",
      "  File \"/Users/mac/.pyenv/versions/3.9.19/lib/python3.9/site-packages/ipykernel/kernelbase.py\", line 778, in execute_request\n",
      "    reply_content = await reply_content\n",
      "  File \"/Users/mac/.pyenv/versions/3.9.19/lib/python3.9/site-packages/ipykernel/ipkernel.py\", line 449, in do_execute\n",
      "    res = shell.run_cell(\n",
      "  File \"/Users/mac/.pyenv/versions/3.9.19/lib/python3.9/site-packages/ipykernel/zmqshell.py\", line 549, in run_cell\n",
      "    return super().run_cell(*args, **kwargs)\n",
      "  File \"/Users/mac/.pyenv/versions/3.9.19/lib/python3.9/site-packages/IPython/core/interactiveshell.py\", line 3048, in run_cell\n",
      "    result = self._run_cell(\n",
      "  File \"/Users/mac/.pyenv/versions/3.9.19/lib/python3.9/site-packages/IPython/core/interactiveshell.py\", line 3103, in _run_cell\n",
      "    result = runner(coro)\n",
      "  File \"/Users/mac/.pyenv/versions/3.9.19/lib/python3.9/site-packages/IPython/core/async_helpers.py\", line 129, in _pseudo_sync_runner\n",
      "    coro.send(None)\n",
      "  File \"/Users/mac/.pyenv/versions/3.9.19/lib/python3.9/site-packages/IPython/core/interactiveshell.py\", line 3308, in run_cell_async\n",
      "    has_raised = await self.run_ast_nodes(code_ast.body, cell_name,\n",
      "  File \"/Users/mac/.pyenv/versions/3.9.19/lib/python3.9/site-packages/IPython/core/interactiveshell.py\", line 3490, in run_ast_nodes\n",
      "    if await self.run_code(code, result, async_=asy):\n",
      "  File \"/Users/mac/.pyenv/versions/3.9.19/lib/python3.9/site-packages/IPython/core/interactiveshell.py\", line 3550, in run_code\n",
      "    exec(code_obj, self.user_global_ns, self.user_ns)\n",
      "  File \"/var/folders/6m/9t86k7s56bl0zncmqwqr19j00000gn/T/ipykernel_36820/1378310181.py\", line 2, in <module>\n",
      "    import torch\n",
      "  File \"/Users/mac/.pyenv/versions/3.9.19/lib/python3.9/site-packages/torch/__init__.py\", line 1477, in <module>\n",
      "    from .functional import *  # noqa: F403\n",
      "  File \"/Users/mac/.pyenv/versions/3.9.19/lib/python3.9/site-packages/torch/functional.py\", line 9, in <module>\n",
      "    import torch.nn.functional as F\n",
      "  File \"/Users/mac/.pyenv/versions/3.9.19/lib/python3.9/site-packages/torch/nn/__init__.py\", line 1, in <module>\n",
      "    from .modules import *  # noqa: F403\n",
      "  File \"/Users/mac/.pyenv/versions/3.9.19/lib/python3.9/site-packages/torch/nn/modules/__init__.py\", line 35, in <module>\n",
      "    from .transformer import TransformerEncoder, TransformerDecoder, \\\n",
      "  File \"/Users/mac/.pyenv/versions/3.9.19/lib/python3.9/site-packages/torch/nn/modules/transformer.py\", line 20, in <module>\n",
      "    device: torch.device = torch.device(torch._C._get_default_device()),  # torch.device('cpu'),\n",
      "/Users/mac/.pyenv/versions/3.9.19/lib/python3.9/site-packages/torch/nn/modules/transformer.py:20: UserWarning: Failed to initialize NumPy: _ARRAY_API not found (Triggered internally at /Users/runner/work/pytorch/pytorch/pytorch/torch/csrc/utils/tensor_numpy.cpp:84.)\n",
      "  device: torch.device = torch.device(torch._C._get_default_device()),  # torch.device('cpu'),\n"
     ]
    }
   ],
   "source": [
    "# Import necessary libraries\n",
    "import torch\n",
    "import torch.nn as nn\n",
    "import numpy as np\n",
    "import onnx\n",
    "import os\n",
    "import json\n",
    "import ezkl"
   ]
  },
  {
   "cell_type": "code",
   "execution_count": 3,
   "metadata": {
    "execution": {
     "iopub.execute_input": "2024-08-25T10:02:31.047575Z",
     "iopub.status.busy": "2024-08-25T10:02:31.047230Z",
     "iopub.status.idle": "2024-08-25T10:02:31.050758Z",
     "shell.execute_reply": "2024-08-25T10:02:31.050024Z"
    }
   },
   "outputs": [],
   "source": [
    "exp_num = os.environ[\"EXP_NUM\"]"
   ]
  },
  {
   "cell_type": "code",
   "execution_count": 4,
   "metadata": {
    "execution": {
     "iopub.execute_input": "2024-08-25T10:02:31.054021Z",
     "iopub.status.busy": "2024-08-25T10:02:31.053720Z",
     "iopub.status.idle": "2024-08-25T10:02:31.634145Z",
     "shell.execute_reply": "2024-08-25T10:02:31.632338Z"
    }
   },
   "outputs": [],
   "source": [
    "! mkdir -p mlp{exp_num}"
   ]
  },
  {
   "cell_type": "code",
   "execution_count": 5,
   "metadata": {
    "execution": {
     "iopub.execute_input": "2024-08-25T10:02:31.639916Z",
     "iopub.status.busy": "2024-08-25T10:02:31.639500Z",
     "iopub.status.idle": "2024-08-25T10:02:31.646177Z",
     "shell.execute_reply": "2024-08-25T10:02:31.645431Z"
    }
   },
   "outputs": [],
   "source": [
    "model_path = os.path.join(f'mlp{exp_num}/mlp.onnx')\n",
    "compiled_model_path = os.path.join(f'mlp{exp_num}/model.compiled')\n",
    "pk_path = os.path.join(f'mlp{exp_num}/pk.key')\n",
    "vk_path = os.path.join(f'mlp{exp_num}/test.vk')\n",
    "settings_path = os.path.join(f'mlp{exp_num}/settings.json')\n",
    "\n",
    "witness_path = os.path.join(f'mlp{exp_num}/witness.json')\n",
    "data_path = os.path.join('input.json')\n",
    "onnx_path =  os.path.join(f\"mlp{exp_num}/mlp.onnx\")\n"
   ]
  },
  {
   "cell_type": "markdown",
   "metadata": {},
   "source": [
    "## Define the MLP Model"
   ]
  },
  {
   "cell_type": "code",
   "execution_count": 6,
   "metadata": {
    "execution": {
     "iopub.execute_input": "2024-08-25T10:02:31.649995Z",
     "iopub.status.busy": "2024-08-25T10:02:31.649672Z",
     "iopub.status.idle": "2024-08-25T10:02:31.655977Z",
     "shell.execute_reply": "2024-08-25T10:02:31.655051Z"
    }
   },
   "outputs": [],
   "source": [
    "# Define the MLP class with the same structure as the o1js MLP\n",
    "class MLP(nn.Module):\n",
    "    def __init__(self, depth):\n",
    "        super(MLP, self).__init__()\n",
    "        self.layers = nn.ModuleList([nn.Linear(5, 5) for _ in range(depth)])\n",
    "        self.output = nn.Linear(5, 1)\n",
    "        self.relu = nn.ReLU()\n",
    "        for m in self.modules():\n",
    "            if isinstance(m, nn.Linear):\n",
    "                torch.nn.init.zeros_(m.weight.data)\n",
    "\n",
    "    def forward(self, x):\n",
    "        for layer in self.layers:\n",
    "            x = self.relu(layer(x))\n",
    "        x = self.output(x)\n",
    "        return x"
   ]
  },
  {
   "cell_type": "markdown",
   "metadata": {},
   "source": [
    "## Initialize the Model and Set Parameters"
   ]
  },
  {
   "cell_type": "code",
   "execution_count": 7,
   "metadata": {
    "execution": {
     "iopub.execute_input": "2024-08-25T10:02:31.659136Z",
     "iopub.status.busy": "2024-08-25T10:02:31.658885Z",
     "iopub.status.idle": "2024-08-25T10:02:31.663707Z",
     "shell.execute_reply": "2024-08-25T10:02:31.663159Z"
    }
   },
   "outputs": [],
   "source": [
    "# Initialize the model\n",
    "depth = 2**int(exp_num)\n",
    "model = MLP(depth=depth)\n",
    "\n",
    "# Manually set the weights and biases to match the o1js example\n",
    "# with torch.no_grad():\n",
    "#     # `hidden1` expects a [1, 5] weight matrix for a [5] input vector\n",
    "#     model.hidden1.weight = nn.Parameter(torch.tensor([[2.0, 4.0, 3.0, 1.0, 5.0]]))  # shape [1, 5]\n",
    "#     model.hidden1.bias = nn.Parameter(torch.tensor([3.0]))  # shape [1]\n",
    "\n",
    "#     # `hidden2` expects a [1, 5] weight matrix for a [5] input vector (which is repeated 5 times)\n",
    "#     model.hidden2.weight = nn.Parameter(torch.tensor([[3.0, 1.0, 4.0, 2.0, 6.0]]))  # shape [1, 5]\n",
    "#     model.hidden2.bias = nn.Parameter(torch.tensor([2.0]))  # shape [1]\n",
    "\n",
    "#     # `output` expects a [1, 1] weight matrix for a [1] input vector\n",
    "#     model.output.weight = nn.Parameter(torch.tensor([[1.0]]))  # shape [1, 1]\n",
    "#     model.output.bias = nn.Parameter(torch.tensor([5.0]))  # shape [1]"
   ]
  },
  {
   "cell_type": "markdown",
   "metadata": {},
   "source": [
    "## Perform Forward Pass"
   ]
  },
  {
   "cell_type": "code",
   "execution_count": 8,
   "metadata": {
    "execution": {
     "iopub.execute_input": "2024-08-25T10:02:31.666822Z",
     "iopub.status.busy": "2024-08-25T10:02:31.666568Z",
     "iopub.status.idle": "2024-08-25T10:02:31.672735Z",
     "shell.execute_reply": "2024-08-25T10:02:31.672125Z"
    }
   },
   "outputs": [
    {
     "name": "stdout",
     "output_type": "stream",
     "text": [
      "Model Output: tensor([[-0.2672],\n",
      "        [-0.2672]], grad_fn=<AddmmBackward0>)\n"
     ]
    }
   ],
   "source": [
    "# Create input data (same as in o1js example)\n",
    "# read in ./input_json\n",
    "data = json.load(open(\"input.json\", 'r'))\n",
    "\n",
    "# convert to torch tensor\n",
    "input_data = torch.tensor(data['input_data'], requires_grad=True)\n",
    "\n",
    "# Perform forward pass through the network\n",
    "output = model(input_data)\n",
    "print(\"Model Output:\", output)"
   ]
  },
  {
   "cell_type": "markdown",
   "metadata": {},
   "source": [
    "## Export the Model to ONNX Format"
   ]
  },
  {
   "cell_type": "code",
   "execution_count": 9,
   "metadata": {
    "execution": {
     "iopub.execute_input": "2024-08-25T10:02:31.677676Z",
     "iopub.status.busy": "2024-08-25T10:02:31.677377Z",
     "iopub.status.idle": "2024-08-25T10:02:31.787941Z",
     "shell.execute_reply": "2024-08-25T10:02:31.787164Z"
    }
   },
   "outputs": [
    {
     "name": "stdout",
     "output_type": "stream",
     "text": [
      "Model exported to mlp1/mlp.onnx\n"
     ]
    }
   ],
   "source": [
    "# Export the model to ONNX format\n",
    "torch.onnx.export(\n",
    "    model,                          # Model being run\n",
    "    input_data,                     # Model input (or a tuple for multiple inputs)\n",
    "    onnx_path,                      # Where to save the model (can be a file or file-like object)\n",
    "    export_params=True,             # Store the trained parameter weights inside the model file\n",
    "    opset_version=10,               # The ONNX version to export the model to\n",
    "    do_constant_folding=True,       # Whether to execute constant folding for optimization\n",
    "    input_names=['input'],          # The model's input names\n",
    "    output_names=['output'],        # The model's output names\n",
    "    dynamic_axes={'input': {0: 'batch_size'}, 'output': {0: 'batch_size'}}  # Variable length axes\n",
    ")\n",
    "\n",
    "print(f\"Model exported to {onnx_path}\")"
   ]
  },
  {
   "cell_type": "markdown",
   "metadata": {},
   "source": [
    "## Validate the ONNX Model"
   ]
  },
  {
   "cell_type": "code",
   "execution_count": 10,
   "metadata": {
    "execution": {
     "iopub.execute_input": "2024-08-25T10:02:31.791741Z",
     "iopub.status.busy": "2024-08-25T10:02:31.791444Z",
     "iopub.status.idle": "2024-08-25T10:02:31.813578Z",
     "shell.execute_reply": "2024-08-25T10:02:31.812803Z"
    }
   },
   "outputs": [
    {
     "name": "stdout",
     "output_type": "stream",
     "text": [
      "ONNX model is valid\n"
     ]
    }
   ],
   "source": [
    "# Load and check the ONNX model\n",
    "onnx_model = onnx.load(onnx_path)\n",
    "onnx.checker.check_model(onnx_model)\n",
    "print('ONNX model is valid')"
   ]
  },
  {
   "cell_type": "code",
   "execution_count": 11,
   "metadata": {
    "execution": {
     "iopub.execute_input": "2024-08-25T10:02:31.817514Z",
     "iopub.status.busy": "2024-08-25T10:02:31.816938Z",
     "iopub.status.idle": "2024-08-25T10:02:31.829448Z",
     "shell.execute_reply": "2024-08-25T10:02:31.828701Z"
    }
   },
   "outputs": [],
   "source": [
    "# TODO: Dictionary outputs\n",
    "res = ezkl.gen_settings(model_path, settings_path)\n",
    "assert res == True"
   ]
  },
  {
   "cell_type": "code",
   "execution_count": 12,
   "metadata": {
    "execution": {
     "iopub.execute_input": "2024-08-25T10:02:31.832491Z",
     "iopub.status.busy": "2024-08-25T10:02:31.832225Z",
     "iopub.status.idle": "2024-08-25T10:02:31.835364Z",
     "shell.execute_reply": "2024-08-25T10:02:31.834768Z"
    }
   },
   "outputs": [],
   "source": [
    "\n",
    "# res = ezkl.calibrate_settings(data_path, model_path, settings_path, \"resources\")\n",
    "# assert res == True"
   ]
  },
  {
   "cell_type": "code",
   "execution_count": 13,
   "metadata": {
    "execution": {
     "iopub.execute_input": "2024-08-25T10:02:31.838533Z",
     "iopub.status.busy": "2024-08-25T10:02:31.838106Z",
     "iopub.status.idle": "2024-08-25T10:02:31.845012Z",
     "shell.execute_reply": "2024-08-25T10:02:31.844073Z"
    }
   },
   "outputs": [],
   "source": [
    "res = ezkl.compile_circuit(model_path, compiled_model_path, settings_path)\n",
    "assert res == True\n"
   ]
  },
  {
   "cell_type": "code",
   "execution_count": 14,
   "metadata": {
    "execution": {
     "iopub.execute_input": "2024-08-25T10:02:31.848622Z",
     "iopub.status.busy": "2024-08-25T10:02:31.848385Z",
     "iopub.status.idle": "2024-08-25T10:02:31.852648Z",
     "shell.execute_reply": "2024-08-25T10:02:31.851807Z"
    }
   },
   "outputs": [],
   "source": [
    "# srs path\n",
    "res = ezkl.get_srs(settings_path)"
   ]
  },
  {
   "cell_type": "code",
   "execution_count": 15,
   "metadata": {
    "execution": {
     "iopub.execute_input": "2024-08-25T10:02:31.856242Z",
     "iopub.status.busy": "2024-08-25T10:02:31.855941Z",
     "iopub.status.idle": "2024-08-25T10:02:31.864272Z",
     "shell.execute_reply": "2024-08-25T10:02:31.863634Z"
    }
   },
   "outputs": [],
   "source": [
    "# now generate the witness file \n",
    "\n",
    "res = await ezkl.gen_witness(data_path, compiled_model_path, witness_path)\n",
    "assert os.path.isfile(witness_path)"
   ]
  },
  {
   "cell_type": "code",
   "execution_count": 16,
   "metadata": {
    "execution": {
     "iopub.execute_input": "2024-08-25T10:02:31.867314Z",
     "iopub.status.busy": "2024-08-25T10:02:31.867078Z",
     "iopub.status.idle": "2024-08-25T10:02:36.541142Z",
     "shell.execute_reply": "2024-08-25T10:02:36.540207Z"
    }
   },
   "outputs": [],
   "source": [
    "\n",
    "# HERE WE SETUP THE CIRCUIT PARAMS\n",
    "# WE GOT KEYS\n",
    "# WE GOT CIRCUIT PARAMETERS\n",
    "# EVERYTHING ANYONE HAS EVER NEEDED FOR ZK\n",
    "\n",
    "res = ezkl.setup(\n",
    "        compiled_model_path,\n",
    "        vk_path,\n",
    "        pk_path,\n",
    "        \n",
    "    )\n",
    "\n",
    "assert res == True\n",
    "assert os.path.isfile(vk_path)\n",
    "assert os.path.isfile(pk_path)\n",
    "assert os.path.isfile(settings_path)"
   ]
  },
  {
   "cell_type": "code",
   "execution_count": null,
   "metadata": {},
   "outputs": [],
   "source": []
  }
 ],
 "metadata": {
  "kernelspec": {
   "display_name": "Python 3",
   "language": "python",
   "name": "python3"
  },
  "language_info": {
   "codemirror_mode": {
    "name": "ipython",
    "version": 3
   },
   "file_extension": ".py",
   "mimetype": "text/x-python",
   "name": "python",
   "nbconvert_exporter": "python",
   "pygments_lexer": "ipython3",
   "version": "3.9.19"
  }
 },
 "nbformat": 4,
 "nbformat_minor": 4
}
