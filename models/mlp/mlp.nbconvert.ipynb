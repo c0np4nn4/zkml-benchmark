{
 "cells": [
  {
   "cell_type": "markdown",
   "metadata": {
    "id": "n8QlFzjPRIGN"
   },
   "source": [
    "# EZKL DEMO\n",
    "\n",
    "**Learning Objectives**\n",
    "1. Learn some basic AI/ML techniques by training a toy model in pytorch to perform classification\n",
    "2. Convert the toy model into zk circuit with ezkl to do provable inference\n",
    "3. Create a solidity verifier and deploy it on Remix (you can deploy it however you like but we will use Remix as it's quite easy to setup)\n",
    "\n",
    "\n",
    "**Important Note**: You might want to avoid calling \"Run All\". There's some file locking issue with Colab which can cause weird bugs. To mitigate this issue you should run cell by cell on Colab."
   ]
  },
  {
   "cell_type": "markdown",
   "metadata": {
    "id": "dx81GOIySIpa"
   },
   "source": [
    "# Step 1: Training a toy model\n",
    "\n",
    "For this demo we will use a toy data set called the Iris dataset to demonstrate how training can be performed. The Iris dataset is a collection of Iris flowers and is one of the earliest dataset used to validate classification methodologies.\n",
    "\n",
    "[More info in the dataset](https://archive.ics.uci.edu/dataset/53/iris)\n",
    "\n"
   ]
  },
  {
   "cell_type": "markdown",
   "metadata": {
    "id": "JhHE2WMvS9NP"
   },
   "source": [
    "First, we will need to import all the various dependencies required to train the model"
   ]
  },
  {
   "cell_type": "code",
   "execution_count": 1,
   "metadata": {
    "execution": {
     "iopub.execute_input": "2024-08-28T01:12:07.235444Z",
     "iopub.status.busy": "2024-08-28T01:12:07.235035Z",
     "iopub.status.idle": "2024-08-28T01:12:09.368921Z",
     "shell.execute_reply": "2024-08-28T01:12:09.368190Z"
    },
    "id": "gvQ5HL1bTDWF"
   },
   "outputs": [],
   "source": [
    "import pandas as pd\n",
    "from sklearn.datasets import load_iris\n",
    "from sklearn.model_selection import train_test_split\n",
    "from sklearn.metrics import accuracy_score, precision_score, recall_score\n",
    "import numpy as np\n",
    "import torch\n",
    "import torch.nn as nn\n",
    "import torch.nn.functional as F\n",
    "from torch.autograd import Variable\n",
    "import tqdm\n",
    "import os"
   ]
  },
  {
   "cell_type": "code",
   "execution_count": 2,
   "metadata": {
    "execution": {
     "iopub.execute_input": "2024-08-28T01:12:09.372806Z",
     "iopub.status.busy": "2024-08-28T01:12:09.372354Z",
     "iopub.status.idle": "2024-08-28T01:12:09.376360Z",
     "shell.execute_reply": "2024-08-28T01:12:09.375644Z"
    }
   },
   "outputs": [],
   "source": [
    "exp_num = os.environ.get(\"EXP_NUM\", \"1\")\n",
    "depth = 2 ** int(exp_num)"
   ]
  },
  {
   "cell_type": "code",
   "execution_count": 3,
   "metadata": {
    "execution": {
     "iopub.execute_input": "2024-08-28T01:12:09.380115Z",
     "iopub.status.busy": "2024-08-28T01:12:09.379759Z",
     "iopub.status.idle": "2024-08-28T01:12:09.983617Z",
     "shell.execute_reply": "2024-08-28T01:12:09.982298Z"
    }
   },
   "outputs": [],
   "source": [
    "! mkdir -p mlp{exp_num}"
   ]
  },
  {
   "cell_type": "code",
   "execution_count": 4,
   "metadata": {
    "execution": {
     "iopub.execute_input": "2024-08-28T01:12:09.988143Z",
     "iopub.status.busy": "2024-08-28T01:12:09.987738Z",
     "iopub.status.idle": "2024-08-28T01:12:09.996943Z",
     "shell.execute_reply": "2024-08-28T01:12:09.996010Z"
    }
   },
   "outputs": [],
   "source": [
    "model_path = os.path.join(f'mlp{exp_num}/mlp.onnx')\n",
    "compiled_model_path = os.path.join(f'mlp{exp_num}/model.compiled')\n",
    "pk_path = os.path.join(f'mlp{exp_num}/pk.key')\n",
    "vk_path = os.path.join(f'mlp{exp_num}/test.vk')\n",
    "settings_path = os.path.join(f'mlp{exp_num}/settings.json')\n",
    "cal_data_path = os.path.join(f'mlp{exp_num}/calibration.json')\n",
    "srs_path = os.path.join(f\"mlp{exp_num}/kzg.srs\")\n",
    "\n",
    "proof_path = os.path.join(f'mlp{exp_num}/proof.json')\n",
    "witness_path = os.path.join(f'mlp{exp_num}/witness.json')\n",
    "data_path = os.path.join('input.json')\n",
    "onnx_path =  os.path.join(f\"mlp{exp_num}/mlp.onnx\")\n",
    "\n"
   ]
  },
  {
   "cell_type": "markdown",
   "metadata": {
    "id": "Op9SHfZHUkaR"
   },
   "source": [
    "Inspect the dataset. Note that for the Iris dataset we have 3 targets.\n",
    "\n",
    "0 = Iris-setosa\n",
    "\n",
    "1 = Iris-versicolor\n",
    "\n",
    "2 = Iris-virginica"
   ]
  },
  {
   "cell_type": "code",
   "execution_count": 5,
   "metadata": {
    "colab": {
     "base_uri": "https://localhost:8080/",
     "height": 424
    },
    "execution": {
     "iopub.execute_input": "2024-08-28T01:12:10.001116Z",
     "iopub.status.busy": "2024-08-28T01:12:10.000758Z",
     "iopub.status.idle": "2024-08-28T01:12:10.024960Z",
     "shell.execute_reply": "2024-08-28T01:12:10.024185Z"
    },
    "id": "C4XXA1hoU30c",
    "outputId": "4fbd47ec-88d1-4ef7-baee-3e3894cc29db"
   },
   "outputs": [
    {
     "data": {
      "text/html": [
       "<div>\n",
       "<style scoped>\n",
       "    .dataframe tbody tr th:only-of-type {\n",
       "        vertical-align: middle;\n",
       "    }\n",
       "\n",
       "    .dataframe tbody tr th {\n",
       "        vertical-align: top;\n",
       "    }\n",
       "\n",
       "    .dataframe thead th {\n",
       "        text-align: right;\n",
       "    }\n",
       "</style>\n",
       "<table border=\"1\" class=\"dataframe\">\n",
       "  <thead>\n",
       "    <tr style=\"text-align: right;\">\n",
       "      <th></th>\n",
       "      <th>sepal length (cm)</th>\n",
       "      <th>sepal width (cm)</th>\n",
       "      <th>petal length (cm)</th>\n",
       "      <th>petal width (cm)</th>\n",
       "      <th>target</th>\n",
       "    </tr>\n",
       "  </thead>\n",
       "  <tbody>\n",
       "    <tr>\n",
       "      <th>0</th>\n",
       "      <td>5.1</td>\n",
       "      <td>3.5</td>\n",
       "      <td>1.4</td>\n",
       "      <td>0.2</td>\n",
       "      <td>0.0</td>\n",
       "    </tr>\n",
       "    <tr>\n",
       "      <th>1</th>\n",
       "      <td>4.9</td>\n",
       "      <td>3.0</td>\n",
       "      <td>1.4</td>\n",
       "      <td>0.2</td>\n",
       "      <td>0.0</td>\n",
       "    </tr>\n",
       "    <tr>\n",
       "      <th>2</th>\n",
       "      <td>4.7</td>\n",
       "      <td>3.2</td>\n",
       "      <td>1.3</td>\n",
       "      <td>0.2</td>\n",
       "      <td>0.0</td>\n",
       "    </tr>\n",
       "    <tr>\n",
       "      <th>3</th>\n",
       "      <td>4.6</td>\n",
       "      <td>3.1</td>\n",
       "      <td>1.5</td>\n",
       "      <td>0.2</td>\n",
       "      <td>0.0</td>\n",
       "    </tr>\n",
       "    <tr>\n",
       "      <th>4</th>\n",
       "      <td>5.0</td>\n",
       "      <td>3.6</td>\n",
       "      <td>1.4</td>\n",
       "      <td>0.2</td>\n",
       "      <td>0.0</td>\n",
       "    </tr>\n",
       "    <tr>\n",
       "      <th>...</th>\n",
       "      <td>...</td>\n",
       "      <td>...</td>\n",
       "      <td>...</td>\n",
       "      <td>...</td>\n",
       "      <td>...</td>\n",
       "    </tr>\n",
       "    <tr>\n",
       "      <th>145</th>\n",
       "      <td>6.7</td>\n",
       "      <td>3.0</td>\n",
       "      <td>5.2</td>\n",
       "      <td>2.3</td>\n",
       "      <td>2.0</td>\n",
       "    </tr>\n",
       "    <tr>\n",
       "      <th>146</th>\n",
       "      <td>6.3</td>\n",
       "      <td>2.5</td>\n",
       "      <td>5.0</td>\n",
       "      <td>1.9</td>\n",
       "      <td>2.0</td>\n",
       "    </tr>\n",
       "    <tr>\n",
       "      <th>147</th>\n",
       "      <td>6.5</td>\n",
       "      <td>3.0</td>\n",
       "      <td>5.2</td>\n",
       "      <td>2.0</td>\n",
       "      <td>2.0</td>\n",
       "    </tr>\n",
       "    <tr>\n",
       "      <th>148</th>\n",
       "      <td>6.2</td>\n",
       "      <td>3.4</td>\n",
       "      <td>5.4</td>\n",
       "      <td>2.3</td>\n",
       "      <td>2.0</td>\n",
       "    </tr>\n",
       "    <tr>\n",
       "      <th>149</th>\n",
       "      <td>5.9</td>\n",
       "      <td>3.0</td>\n",
       "      <td>5.1</td>\n",
       "      <td>1.8</td>\n",
       "      <td>2.0</td>\n",
       "    </tr>\n",
       "  </tbody>\n",
       "</table>\n",
       "<p>150 rows × 5 columns</p>\n",
       "</div>"
      ],
      "text/plain": [
       "     sepal length (cm)  sepal width (cm)  petal length (cm)  petal width (cm)  \\\n",
       "0                  5.1               3.5                1.4               0.2   \n",
       "1                  4.9               3.0                1.4               0.2   \n",
       "2                  4.7               3.2                1.3               0.2   \n",
       "3                  4.6               3.1                1.5               0.2   \n",
       "4                  5.0               3.6                1.4               0.2   \n",
       "..                 ...               ...                ...               ...   \n",
       "145                6.7               3.0                5.2               2.3   \n",
       "146                6.3               2.5                5.0               1.9   \n",
       "147                6.5               3.0                5.2               2.0   \n",
       "148                6.2               3.4                5.4               2.3   \n",
       "149                5.9               3.0                5.1               1.8   \n",
       "\n",
       "     target  \n",
       "0       0.0  \n",
       "1       0.0  \n",
       "2       0.0  \n",
       "3       0.0  \n",
       "4       0.0  \n",
       "..      ...  \n",
       "145     2.0  \n",
       "146     2.0  \n",
       "147     2.0  \n",
       "148     2.0  \n",
       "149     2.0  \n",
       "\n",
       "[150 rows x 5 columns]"
      ]
     },
     "execution_count": 5,
     "metadata": {},
     "output_type": "execute_result"
    }
   ],
   "source": [
    "iris = load_iris()\n",
    "dataset = pd.DataFrame(\n",
    "    data= np.c_[iris['data'], iris['target']],\n",
    "    columns= iris['feature_names'] + ['target'])\n",
    "dataset"
   ]
  },
  {
   "cell_type": "markdown",
   "metadata": {
    "id": "I8RargmGTWN2"
   },
   "source": [
    "Next, we can begin defining the neural net model. For this dataset we will use a small fully connected neural net.\n",
    "\n",
    "<br />\n",
    "\n",
    "**Note:**\n",
    "For the 1st layer we use 4x20, because there are 4 features we want as inputs. After which we add a ReLU.\n",
    "\n",
    "For the 2nd layer we use 20x20, then add a ReLU.\n",
    "\n",
    "And for the last layer we use 20x3, because there are 3 classes we want to classify, then add a ReLU.\n",
    "\n",
    "The last ReLU function gives us an array of 3 elements where the position of the largest value gives us the target that we want to classify.\n",
    "\n",
    "For example, if we get [0, 0.001, 0.002] as the output of the last ReLU. As, 0.002 is the largest value, the inferred value is 2.\n",
    "\n",
    "\n",
    "![image.png](data:image/png;base64,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)"
   ]
  },
  {
   "cell_type": "code",
   "execution_count": 6,
   "metadata": {
    "execution": {
     "iopub.execute_input": "2024-08-28T01:12:10.068859Z",
     "iopub.status.busy": "2024-08-28T01:12:10.068542Z",
     "iopub.status.idle": "2024-08-28T01:12:10.461478Z",
     "shell.execute_reply": "2024-08-28T01:12:10.460483Z"
    },
    "id": "dIdQ9U3yTKtP"
   },
   "outputs": [],
   "source": [
    "class Model(nn.Module):\n",
    "    # define nn\n",
    "    def __init__(self, depth):\n",
    "        super(Model, self).__init__()\n",
    "        self.layers = nn.ModuleList([nn.Linear(4, 4) for _ in range(depth)])\n",
    "        self.relu = nn.ReLU()\n",
    "        self.output = nn.Linear(4, 1)\n",
    "\n",
    "    def forward(self, x):\n",
    "        for layer in self.layers:\n",
    "            x = self.relu(layer(x))\n",
    "        x = self.output(x)\n",
    "\n",
    "        return x\n",
    "\n",
    "# Initialize Model\n",
    "model = Model(depth)"
   ]
  },
  {
   "cell_type": "markdown",
   "metadata": {
    "id": "SfC03XLNXDPZ"
   },
   "source": [
    "We will now need to split the dataset into a training set and testing set for ML. This is done fairly easily with the `train_test_split` helper function from sklearn."
   ]
  },
  {
   "cell_type": "code",
   "execution_count": 7,
   "metadata": {
    "colab": {
     "base_uri": "https://localhost:8080/"
    },
    "execution": {
     "iopub.execute_input": "2024-08-28T01:12:10.465490Z",
     "iopub.status.busy": "2024-08-28T01:12:10.465135Z",
     "iopub.status.idle": "2024-08-28T01:12:10.475776Z",
     "shell.execute_reply": "2024-08-28T01:12:10.474880Z"
    },
    "id": "agmbEdmfUO1-",
    "outputId": "87766edd-50db-48af-aa5d-3f4fc164f8b7"
   },
   "outputs": [
    {
     "name": "stdout",
     "output_type": "stream",
     "text": [
      "train_y:  122    2.0\n",
      "9      0.0\n",
      "23     0.0\n",
      "138    2.0\n",
      "94     1.0\n",
      "      ... \n",
      "107    2.0\n",
      "135    2.0\n",
      "126    2.0\n",
      "20     0.0\n",
      "139    2.0\n",
      "Name: target, Length: 120, dtype: float64\n",
      "test_y:  49     0.0\n",
      "48     0.0\n",
      "103    2.0\n",
      "77     1.0\n",
      "55     1.0\n",
      "91     1.0\n",
      "115    2.0\n",
      "59     1.0\n",
      "74     1.0\n",
      "67     1.0\n",
      "106    2.0\n",
      "37     0.0\n",
      "117    2.0\n",
      "134    2.0\n",
      "105    2.0\n",
      "44     0.0\n",
      "46     0.0\n",
      "86     1.0\n",
      "14     0.0\n",
      "11     0.0\n",
      "51     1.0\n",
      "8      0.0\n",
      "109    2.0\n",
      "104    2.0\n",
      "50     1.0\n",
      "111    2.0\n",
      "25     0.0\n",
      "10     0.0\n",
      "29     0.0\n",
      "85     1.0\n",
      "Name: target, dtype: float64\n"
     ]
    }
   ],
   "source": [
    "train_X, test_X, train_y, test_y = train_test_split(\n",
    "    dataset[dataset.columns[0:4]].values, # use columns 0-4 as X\n",
    "    dataset.target, # use target as y\n",
    "    test_size=0.2 # use 20% of data for testing\n",
    ")\n",
    "\n",
    "# Uncomment for sanity checks\n",
    "# print(\"train_X: \", train_X)\n",
    "# print(\"test_X: \", test_X)\n",
    "print(\"train_y: \", train_y)\n",
    "print(\"test_y: \", test_y)"
   ]
  },
  {
   "cell_type": "markdown",
   "metadata": {
    "id": "_FrQXhAGZGS3"
   },
   "source": [
    "We can now define the parameters for training, we will use the [Cross Entropy Loss](https://machinelearningmastery.com/cross-entropy-for-machine-learning/) and [Stochastic Gradient Descent Optimizer](https://en.wikipedia.org/wiki/Stochastic_gradient_descent)."
   ]
  },
  {
   "cell_type": "code",
   "execution_count": 8,
   "metadata": {
    "colab": {
     "base_uri": "https://localhost:8080/"
    },
    "execution": {
     "iopub.execute_input": "2024-08-28T01:12:10.481031Z",
     "iopub.status.busy": "2024-08-28T01:12:10.480600Z",
     "iopub.status.idle": "2024-08-28T01:12:10.486628Z",
     "shell.execute_reply": "2024-08-28T01:12:10.486021Z"
    },
    "id": "9PjADXnuXbdk",
    "outputId": "81602926-c386-4f68-a9ee-ae2d5837fe47"
   },
   "outputs": [],
   "source": [
    "# # our loss function\n",
    "# loss_fn = nn.CrossEntropyLoss()\n",
    "\n",
    "# # our optimizer\n",
    "# optimizer = torch.optim.SGD(model.parameters(), lr=0.01)\n",
    "\n",
    "\n",
    "# # use 800 EPOCHS\n",
    "# EPOCHS = 800\n",
    "\n",
    "# # Convert training data to pytorch variables\n",
    "train_X = Variable(torch.Tensor(train_X).float())\n",
    "test_X = Variable(torch.Tensor(test_X).float())\n",
    "train_y = Variable(torch.Tensor(train_y.values).long())\n",
    "test_y = Variable(torch.Tensor(test_y.values).long())\n",
    "\n",
    "\n",
    "# loss_list     = np.zeros((EPOCHS,))\n",
    "# accuracy_list = np.zeros((EPOCHS,))\n",
    "\n",
    "\n",
    "# # we use tqdm for nice loading bars\n",
    "# for epoch in tqdm.trange(EPOCHS):\n",
    "\n",
    "#     # To train, we get a prediction from the current network\n",
    "#     predicted_y = model(train_X)\n",
    "\n",
    "#     # Compute the loss to see how bad or good we are doing\n",
    "#     loss = loss_fn(predicted_y, train_y)\n",
    "\n",
    "#     # Append the loss to keep track of our performance\n",
    "#     loss_list[epoch] = loss.item()\n",
    "\n",
    "#     # Afterwards, we will need to zero the gradients to reset\n",
    "#     optimizer.zero_grad()\n",
    "#     loss.backward()\n",
    "#     optimizer.step()\n",
    "\n",
    "#     # Calculate the accuracy, call torch.no_grad() to prevent updating gradients\n",
    "#     # while calculating accuracy\n",
    "#     with torch.no_grad():\n",
    "#         y_pred = model(test_X)\n",
    "#         correct = (torch.argmax(y_pred, dim=1) == test_y).type(torch.FloatTensor)\n",
    "#         accuracy_list[epoch] = correct.mean()"
   ]
  },
  {
   "cell_type": "code",
   "execution_count": 9,
   "metadata": {
    "colab": {
     "base_uri": "https://localhost:8080/",
     "height": 546
    },
    "execution": {
     "iopub.execute_input": "2024-08-28T01:12:10.490051Z",
     "iopub.status.busy": "2024-08-28T01:12:10.489781Z",
     "iopub.status.idle": "2024-08-28T01:12:10.493297Z",
     "shell.execute_reply": "2024-08-28T01:12:10.492532Z"
    },
    "id": "2fHJAgvwboCe",
    "outputId": "513c73b7-2663-4bb3-f7b4-cae208940070"
   },
   "outputs": [],
   "source": [
    "# # Plot the Accuracy and Loss\n",
    "\n",
    "# # import matplotlib\n",
    "# import matplotlib.pyplot as plt\n",
    "\n",
    "# plt.style.use('ggplot')\n",
    "\n",
    "\n",
    "# fig, (ax1, ax2) = plt.subplots(2, figsize=(12, 6), sharex=True)\n",
    "\n",
    "# ax1.plot(accuracy_list)\n",
    "# ax1.set_ylabel(\"Accuracy\")\n",
    "# ax2.plot(loss_list)\n",
    "# ax2.set_ylabel(\"Loss\")\n",
    "# ax2.set_xlabel(\"epochs\");"
   ]
  },
  {
   "cell_type": "markdown",
   "metadata": {
    "id": "djB-UtvgYbF2"
   },
   "source": [
    "## Congratulations! You've just trained a neural network\n",
    "\n",
    "**Exercise:** The model provided is very simplistic, what are other ways the model can be improved upon?"
   ]
  },
  {
   "cell_type": "markdown",
   "metadata": {
    "id": "JgtwrbMZcgla"
   },
   "source": [
    "# Step 2: ZK the Neural Network\n",
    "\n",
    "Now that we have the Neural Network trained, we can use ezkl to easily ZK our model.\n",
    "\n",
    "To proceed we will now need to install `ezkl`\n",
    "\n"
   ]
  },
  {
   "cell_type": "code",
   "execution_count": 10,
   "metadata": {
    "execution": {
     "iopub.execute_input": "2024-08-28T01:12:10.497704Z",
     "iopub.status.busy": "2024-08-28T01:12:10.497340Z",
     "iopub.status.idle": "2024-08-28T01:12:10.507561Z",
     "shell.execute_reply": "2024-08-28T01:12:10.506960Z"
    },
    "id": "C_YiqknhdDwN"
   },
   "outputs": [],
   "source": [
    "# check if notebook is in colab\n",
    "try:\n",
    "    import google.colab\n",
    "    import subprocess\n",
    "    import sys\n",
    "    subprocess.check_call([sys.executable, \"-m\", \"pip\", \"install\", \"ezkl\"])\n",
    "    subprocess.check_call([sys.executable, \"-m\", \"pip\", \"install\", \"onnx\"])\n",
    "\n",
    "# rely on local installation of ezkl if the notebook is not in colab\n",
    "except:\n",
    "    pass\n",
    "\n",
    "import os\n",
    "import json\n",
    "import ezkl"
   ]
  },
  {
   "cell_type": "markdown",
   "metadata": {
    "id": "-b_z_d2FdVTB"
   },
   "source": [
    "Next, we will need to export the neural network to a `.onnx` file. ezkl reads this `.onnx` file and converts it into a circuit which then allows you to generate proofs as well as verify proofs"
   ]
  },
  {
   "cell_type": "code",
   "execution_count": 11,
   "metadata": {
    "execution": {
     "iopub.execute_input": "2024-08-28T01:12:10.511094Z",
     "iopub.status.busy": "2024-08-28T01:12:10.510682Z",
     "iopub.status.idle": "2024-08-28T01:12:10.514249Z",
     "shell.execute_reply": "2024-08-28T01:12:10.513540Z"
    },
    "id": "YeKWP0tFeCpq"
   },
   "outputs": [],
   "source": [
    "# Specify all the files we need\n",
    "\n",
    "# model_path = os.path.join('network.onnx')\n",
    "# data_path = os.path.join('input.json')\n",
    "# cal_data_path = os.path.join('calibration.json')"
   ]
  },
  {
   "cell_type": "code",
   "execution_count": 12,
   "metadata": {
    "colab": {
     "base_uri": "https://localhost:8080/"
    },
    "execution": {
     "iopub.execute_input": "2024-08-28T01:12:10.517235Z",
     "iopub.status.busy": "2024-08-28T01:12:10.516975Z",
     "iopub.status.idle": "2024-08-28T01:21:21.583498Z",
     "shell.execute_reply": "2024-08-28T01:21:21.582567Z"
    },
    "id": "cQeNw_qndQ8g",
    "outputId": "2d40f14e-7fbb-4377-e9ee-0e7678edb2ce"
   },
   "outputs": [],
   "source": [
    "# After training, export to onnx (network.onnx) and create a data file (input.json)\n",
    "\n",
    "# create a random input\n",
    "x = test_X[0].reshape(1, 4)\n",
    "\n",
    "# Flips the neural net into inference mode\n",
    "model.eval()\n",
    "\n",
    "# Export the model\n",
    "torch.onnx.export(model,                     # model being run\n",
    "                  x,                         # model input (or a tuple for multiple inputs)\n",
    "                  model_path,                # where to save the model (can be a file or file-like object)\n",
    "                  export_params=True,        # store the trained parameter weights inside the model file\n",
    "                  opset_version=10,          # the ONNX version to export the model to\n",
    "                  do_constant_folding=True,  # whether to execute constant folding for optimization\n",
    "                  input_names = ['input'],   # the model's input names\n",
    "                  output_names = ['output'], # the model's output names\n",
    "                  dynamic_axes={'input' : {0 : 'batch_size'},    # variable length axes\n",
    "                                'output' : {0 : 'batch_size'}})\n",
    "\n",
    "data_array = ((x).detach().numpy()).reshape([-1]).tolist()\n",
    "\n",
    "data = dict(input_data = [data_array])\n",
    "\n",
    "    # Serialize data into file:\n",
    "json.dump(data, open(data_path, 'w'))\n",
    "\n",
    "\n",
    "\n"
   ]
  },
  {
   "cell_type": "markdown",
   "metadata": {
    "id": "9P4x79hIeiLO"
   },
   "source": [
    "After which we can proceed to generate the settings file for `ezkl` and run calibrate settings to find the optimal settings for `ezkl`"
   ]
  },
  {
   "cell_type": "code",
   "execution_count": 13,
   "metadata": {
    "execution": {
     "iopub.execute_input": "2024-08-28T01:21:21.587846Z",
     "iopub.status.busy": "2024-08-28T01:21:21.587347Z",
     "iopub.status.idle": "2024-08-28T01:21:55.953637Z",
     "shell.execute_reply": "2024-08-28T01:21:55.952678Z"
    },
    "id": "cY25BIyreIX8"
   },
   "outputs": [],
   "source": [
    "!RUST_LOG=trace\n",
    "# TODO: Dictionary outputs\n",
    "py_run_args = ezkl.PyRunArgs()\n",
    "py_run_args.input_visibility = \"public\"\n",
    "py_run_args.output_visibility = \"public\"\n",
    "py_run_args.param_visibility = \"fixed\"\n",
    "res = ezkl.gen_settings(model_path, settings_path, py_run_args=py_run_args)\n",
    "assert res == True\n",
    "\n"
   ]
  },
  {
   "cell_type": "code",
   "execution_count": 14,
   "metadata": {
    "execution": {
     "iopub.execute_input": "2024-08-28T01:21:55.957630Z",
     "iopub.status.busy": "2024-08-28T01:21:55.957214Z",
     "iopub.status.idle": "2024-08-28T01:26:54.248126Z",
     "shell.execute_reply": "2024-08-28T01:26:54.247240Z"
    }
   },
   "outputs": [
    {
     "name": "stderr",
     "output_type": "stream",
     "text": [
      "\n",
      "\n",
      " <------------- Numerical Fidelity Report (input_scale: 2, param_scale: 2, scale_input_multiplier: 2) ------------->\n",
      "\n",
      "+-------------+--------------+-------------+-------------+----------------+------------------+---------------+---------------+--------------------+--------------------+------------------------+\n",
      "| mean_error  | median_error | max_error   | min_error   | mean_abs_error | median_abs_error | max_abs_error | min_abs_error | mean_squared_error | mean_percent_error | mean_abs_percent_error |\n",
      "+-------------+--------------+-------------+-------------+----------------+------------------+---------------+---------------+--------------------+--------------------+------------------------+\n",
      "| 0.059770234 | 0.059770234  | 0.059770234 | 0.059770234 | 0.059770234    | 0.059770234      | 0.059770234   | 0.059770234   | 0.0035724808       | 0.48883715         | 0.48883715             |\n",
      "+-------------+--------------+-------------+-------------+----------------+------------------+---------------+---------------+--------------------+--------------------+------------------------+\n",
      "\n",
      "\n"
     ]
    }
   ],
   "source": [
    "# use the test set to calibrate the circuit\n",
    "cal_data = dict(input_data = test_X.flatten().tolist())\n",
    "\n",
    "# Serialize calibration data into file:\n",
    "json.dump(data, open(cal_data_path, 'w'))\n",
    "\n",
    "# Optimize for resources, we cap logrows at 12 to reduce setup and proving time, at the expense of accuracy\n",
    "# You may want to increase the max logrows if accuracy is a concern\n",
    "res = await ezkl.calibrate_settings(data=data_path, target = \"resources\", max_logrows = 12, scales = [2], model=model_path, settings=settings_path, )"
   ]
  },
  {
   "cell_type": "markdown",
   "metadata": {
    "id": "MFmPMBQ1jYao"
   },
   "source": [
    "Next, we will compile the model. The compilation step allow us to generate proofs faster."
   ]
  },
  {
   "cell_type": "code",
   "execution_count": 15,
   "metadata": {
    "execution": {
     "iopub.execute_input": "2024-08-28T01:26:54.251600Z",
     "iopub.status.busy": "2024-08-28T01:26:54.251317Z",
     "iopub.status.idle": "2024-08-28T01:27:14.155830Z",
     "shell.execute_reply": "2024-08-28T01:27:14.154976Z"
    },
    "id": "De5XtpGUerkZ"
   },
   "outputs": [],
   "source": [
    "res = ezkl.compile_circuit(model_path, compiled_model_path, settings_path)\n",
    "assert res == True"
   ]
  },
  {
   "cell_type": "markdown",
   "metadata": {
    "id": "UbkuSVKljmhA"
   },
   "source": [
    "Before we can setup the circuit params, we need a SRS (Structured Reference String). The SRS is used to generate the proofs."
   ]
  },
  {
   "cell_type": "code",
   "execution_count": 16,
   "metadata": {
    "execution": {
     "iopub.execute_input": "2024-08-28T01:27:14.159100Z",
     "iopub.status.busy": "2024-08-28T01:27:14.158819Z",
     "iopub.status.idle": "2024-08-28T01:27:14.164907Z",
     "shell.execute_reply": "2024-08-28T01:27:14.164329Z"
    },
    "id": "amaTcWG6f2GI"
   },
   "outputs": [],
   "source": [
    "res = await ezkl.get_srs(settings_path=settings_path)"
   ]
  },
  {
   "cell_type": "markdown",
   "metadata": {
    "id": "Y92p3GhVj1Jd"
   },
   "source": [
    "Now run setup, this will generate a proving key (pk) and verification key (vk). The proving key is used for proving while the verification key is used for verificaton."
   ]
  },
  {
   "cell_type": "code",
   "execution_count": 17,
   "metadata": {
    "execution": {
     "iopub.execute_input": "2024-08-28T01:27:14.168003Z",
     "iopub.status.busy": "2024-08-28T01:27:14.167747Z",
     "iopub.status.idle": "2024-08-28T01:27:49.292370Z",
     "shell.execute_reply": "2024-08-28T01:27:49.291707Z"
    },
    "id": "fdsteit9jzfK"
   },
   "outputs": [],
   "source": [
    "res = ezkl.setup(compiled_model_path, vk_path, pk_path)\n",
    "\n",
    "\n",
    "assert res == True"
   ]
  },
  {
   "cell_type": "markdown",
   "metadata": {
    "id": "QYlqpP3jkExm"
   },
   "source": [
    "Now, we can generate a proof and verify the proof as a sanity check. We will use the \"evm\" transcript. This will allow us to provide proofs to the EVM."
   ]
  },
  {
   "cell_type": "code",
   "execution_count": 18,
   "metadata": {
    "execution": {
     "iopub.execute_input": "2024-08-28T01:27:49.295750Z",
     "iopub.status.busy": "2024-08-28T01:27:49.295474Z",
     "iopub.status.idle": "2024-08-28T01:27:57.562415Z",
     "shell.execute_reply": "2024-08-28T01:27:57.561752Z"
    },
    "id": "yoz5Vks5kaHI"
   },
   "outputs": [],
   "source": [
    "# Generate the Witness for the proof\n",
    "\n",
    "# now generate the witness file\n",
    "# witness_path = os.path.join('witness.json')\n",
    "\n",
    "res = await ezkl.gen_witness(\"input.json\", compiled_model_path, witness_path)\n",
    "assert os.path.isfile(witness_path)"
   ]
  },
  {
   "cell_type": "code",
   "execution_count": 19,
   "metadata": {
    "colab": {
     "base_uri": "https://localhost:8080/"
    },
    "execution": {
     "iopub.execute_input": "2024-08-28T01:27:57.565928Z",
     "iopub.status.busy": "2024-08-28T01:27:57.565657Z",
     "iopub.status.idle": "2024-08-28T01:28:19.157554Z",
     "shell.execute_reply": "2024-08-28T01:28:19.156839Z"
    },
    "id": "eKkFBZX1kBdE",
    "outputId": "48c67e19-a491-4515-f09c-a560df8c3834"
   },
   "outputs": [
    {
     "name": "stdout",
     "output_type": "stream",
     "text": [
      "{'instances': [['1400000000000000000000000000000000000000000000000000000000000000', '0d00000000000000000000000000000000000000000000000000000000000000', '0600000000000000000000000000000000000000000000000000000000000000', '0100000000000000000000000000000000000000000000000000000000000000', '0100000000000000000000000000000000000000000000000000000000000000']], 'proof': '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', 'transcript_type': 'EVM'}\n"
     ]
    }
   ],
   "source": [
    "# Generate the proof\n",
    "\n",
    "# proof_path = os.path.join('proof.json')\n",
    "\n",
    "# proof = ezkl.prove(proof_type=\"single\", proof_path=proof_path)\n",
    "\n",
    "proof = ezkl.prove(\n",
    "    witness=witness_path,\n",
    "    model=compiled_model_path,\n",
    "    pk_path=pk_path, proof_path=proof_path, proof_type=\"single\")\n",
    "\n",
    "print(proof)\n",
    "assert os.path.isfile(proof_path)"
   ]
  },
  {
   "cell_type": "code",
   "execution_count": 20,
   "metadata": {
    "colab": {
     "base_uri": "https://localhost:8080/"
    },
    "execution": {
     "iopub.execute_input": "2024-08-28T01:28:19.161350Z",
     "iopub.status.busy": "2024-08-28T01:28:19.161052Z",
     "iopub.status.idle": "2024-08-28T01:28:19.257131Z",
     "shell.execute_reply": "2024-08-28T01:28:19.256397Z"
    },
    "id": "DuuH-qcOkQf1",
    "outputId": "375fdd63-1c0b-4c3c-eddd-f890a752923c"
   },
   "outputs": [
    {
     "name": "stdout",
     "output_type": "stream",
     "text": [
      "verified\n"
     ]
    }
   ],
   "source": [
    "# verify our proof\n",
    "\n",
    "res = ezkl.verify(proof_path, settings_path, vk_path)\n",
    "\n",
    "\n",
    "assert res == True\n",
    "print(\"verified\")"
   ]
  },
  {
   "cell_type": "markdown",
   "metadata": {
    "id": "TOSRigalkwH-"
   },
   "source": [
    "## Congratulations! You have just turned your Neural Network into a Halo2 Circuit!\n"
   ]
  },
  {
   "cell_type": "markdown",
   "metadata": {
    "id": "flrg3NOGwsJh"
   },
   "source": [
    "\n",
    "# Part 3: Deploying the Verifier\n",
    "Now that we have the circuit setup, we can proceed to deploy the verifier onchain.\n",
    "\n",
    "We will need to setup `solc=0.8.20` for this."
   ]
  },
  {
   "cell_type": "code",
   "execution_count": 21,
   "metadata": {
    "colab": {
     "base_uri": "https://localhost:8080/"
    },
    "execution": {
     "iopub.execute_input": "2024-08-28T01:28:19.260953Z",
     "iopub.status.busy": "2024-08-28T01:28:19.260664Z",
     "iopub.status.idle": "2024-08-28T01:28:19.264051Z",
     "shell.execute_reply": "2024-08-28T01:28:19.263330Z"
    },
    "id": "CVqMeMYqktvl",
    "outputId": "60ef81a5-867e-4a27-a0a1-0a492244e7f7"
   },
   "outputs": [],
   "source": [
    "# # check if notebook is in colab\n",
    "# try:\n",
    "#     import google.colab\n",
    "#     import subprocess\n",
    "#     import sys\n",
    "#     subprocess.check_call([sys.executable, \"-m\", \"pip\", \"install\", \"solc-select\"])\n",
    "#     !solc-select install 0.8.20\n",
    "#     !solc-select use 0.8.20\n",
    "#     !solc --version\n",
    "\n",
    "# # rely on local installation if the notebook is not in colab\n",
    "# except:\n",
    "#     pass"
   ]
  },
  {
   "cell_type": "markdown",
   "metadata": {
    "id": "HRHvkMjVlfWU"
   },
   "source": [
    "With solc in our environment we can now create the evm verifier."
   ]
  },
  {
   "cell_type": "code",
   "execution_count": 22,
   "metadata": {
    "execution": {
     "iopub.execute_input": "2024-08-28T01:28:19.267382Z",
     "iopub.status.busy": "2024-08-28T01:28:19.267107Z",
     "iopub.status.idle": "2024-08-28T01:28:19.270330Z",
     "shell.execute_reply": "2024-08-28T01:28:19.269609Z"
    },
    "id": "gYlw20VZkva7"
   },
   "outputs": [],
   "source": [
    "# sol_code_path = os.path.join('Verifier.sol')\n",
    "# abi_path = os.path.join('Verifier.abi')\n",
    "\n",
    "# res = await ezkl.create_evm_verifier(\n",
    "#         sol_code_path=sol_code_path,\n",
    "#         abi_path=abi_path, \n",
    "#     )\n",
    "\n",
    "# assert res == True\n",
    "# assert os.path.isfile(sol_code_path)"
   ]
  },
  {
   "cell_type": "code",
   "execution_count": 23,
   "metadata": {
    "colab": {
     "base_uri": "https://localhost:8080/"
    },
    "execution": {
     "iopub.execute_input": "2024-08-28T01:28:19.273530Z",
     "iopub.status.busy": "2024-08-28T01:28:19.273268Z",
     "iopub.status.idle": "2024-08-28T01:28:19.276431Z",
     "shell.execute_reply": "2024-08-28T01:28:19.275826Z"
    },
    "id": "jQSAVMvxrBQD",
    "outputId": "691484fa-ef21-4b40-e179-9d2d90abd3d0"
   },
   "outputs": [],
   "source": [
    "# onchain_input_array = []\n",
    "\n",
    "# # using a loop\n",
    "# # avoiding printing last comma\n",
    "# formatted_output = \"[\"\n",
    "# for i, value in enumerate(proof[\"instances\"]):\n",
    "#     for j, field_element in enumerate(value):\n",
    "#         onchain_input_array.append(ezkl.felt_to_big_endian(field_element))\n",
    "#         formatted_output += '\"' + str(onchain_input_array[-1]) + '\"'\n",
    "#         if j != len(value) - 1:\n",
    "#             formatted_output += \", \"\n",
    "#     if i != len(proof[\"instances\"]) - 1:\n",
    "#         formatted_output += \", \"\n",
    "# formatted_output += \"]\"\n",
    "\n",
    "# # This will be the values you use onchain\n",
    "# # copy them over to remix and see if they verify\n",
    "# # What happens when you change a value?\n",
    "# print(\"pubInputs: \", formatted_output)\n",
    "# print(\"proof: \", proof[\"proof\"])"
   ]
  },
  {
   "cell_type": "markdown",
   "metadata": {
    "id": "zrzPxPvZmX9b"
   },
   "source": [
    "We will exit colab for the next steps. At the left of colab you can see a folder icon. Click on that.\n",
    "\n",
    "\n",
    "You should see a `Verifier.sol`. Right-click and save it locally.\n",
    "\n",
    "Now go to [https://remix.ethereum.org](https://remix.ethereum.org).\n",
    "\n",
    "Create a new file within remix and copy the verifier code over.\n",
    "\n",
    "Finally, compile the code and deploy. For the demo you can deploy to the test environment within remix.\n",
    "\n",
    "If everything works, you would have deployed your verifer onchain! Copy the values in the cell above to the respective fields to test if the verifier is working.\n",
    "\n",
    "**Note that right now this setup accepts random values!**\n",
    "\n",
    "This might not be great for some applications. For that we will want to use a data attested verifier instead. [See this tutorial.](https://github.com/zkonduit/ezkl/blob/main/examples/notebooks/data_attest.ipynb)\n",
    "\n",
    "## Congratulations for making it this far!\n",
    "\n",
    "If you have followed the whole tutorial, you would have deployed a neural network inference model onchain! That's no mean feat!"
   ]
  }
 ],
 "metadata": {
  "colab": {
   "provenance": []
  },
  "kernelspec": {
   "display_name": "Python 3",
   "name": "python3"
  },
  "language_info": {
   "codemirror_mode": {
    "name": "ipython",
    "version": 3
   },
   "file_extension": ".py",
   "mimetype": "text/x-python",
   "name": "python",
   "nbconvert_exporter": "python",
   "pygments_lexer": "ipython3",
   "version": "3.9.19"
  }
 },
 "nbformat": 4,
 "nbformat_minor": 0
}
